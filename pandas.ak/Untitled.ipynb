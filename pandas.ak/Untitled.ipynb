{
 "cells": [
  {
   "cell_type": "markdown",
   "id": "ddb7a60f-6924-4937-aa3b-ff5c77dfa164",
   "metadata": {},
   "source": [
    "# iloc\n",
    "\"integer location function\"\n",
    "# DataFrame.iloc[row_ind,column]\n",
    "\n",
    "# selecting a single element\n",
    "val = dataframe.iloc[row,column]\n",
    "\n",
    "# selecting a specific row\n",
    "val = dataframe.iloc[row_index]\n",
    "\n",
    "# selecting a multiple row element\n",
    "val = dataframe.iloc[startrow:endrow]\n",
    "\n",
    "# selecting a specific rows and column\n",
    "val = dataframe.iloc[[row1,row2],[col1,col2]]\n",
    "\n",
    "# selecting a all rows for specific column\n",
    "val = dataframe.iloc[:,[col1, col2]]"
   ]
  },
  {
   "cell_type": "code",
   "execution_count": 2,
   "id": "3a0501e5-c00d-4f9b-896d-4b360d84db50",
   "metadata": {},
   "outputs": [
    {
     "name": "stdout",
     "output_type": "stream",
     "text": [
      "     name  age country\n",
      "0   akash   28  kanpur\n",
      "1  vikash   30   delhi\n",
      "2    atul   27   dubai\n",
      "3    anuj   43   patna\n"
     ]
    }
   ],
   "source": [
    "import pandas as pd\n",
    "data = {'name':['akash','vikash','atul','anuj'],\n",
    "        'age':[28,30,27,43],'country':['kanpur','delhi','dubai','patna']}\n",
    "df=pd.DataFrame(data)\n",
    "print(df)"
   ]
  },
  {
   "cell_type": "code",
   "execution_count": 3,
   "id": "da399f8c-25d8-4a7d-9f42-d03ff7a8ad97",
   "metadata": {},
   "outputs": [
    {
     "name": "stdout",
     "output_type": "stream",
     "text": [
      "delhi\n"
     ]
    }
   ],
   "source": [
    "element = df.iloc[1,2]\n",
    "print(element)"
   ]
  },
  {
   "cell_type": "code",
   "execution_count": 4,
   "id": "fb10ec41-205a-495e-bb72-c38fda2e6743",
   "metadata": {},
   "outputs": [
    {
     "name": "stdout",
     "output_type": "stream",
     "text": [
      "     name  age\n",
      "1  vikash   30\n",
      "2    atul   27\n"
     ]
    }
   ],
   "source": [
    "ak= df.iloc[1:3,0:2]\n",
    "print(ak)"
   ]
  }
 ],
 "metadata": {
  "kernelspec": {
   "display_name": "Python 3 (ipykernel)",
   "language": "python",
   "name": "python3"
  },
  "language_info": {
   "codemirror_mode": {
    "name": "ipython",
    "version": 3
   },
   "file_extension": ".py",
   "mimetype": "text/x-python",
   "name": "python",
   "nbconvert_exporter": "python",
   "pygments_lexer": "ipython3",
   "version": "3.12.7"
  }
 },
 "nbformat": 4,
 "nbformat_minor": 5
}
