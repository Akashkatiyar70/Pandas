{
 "cells": [
  {
   "cell_type": "markdown",
   "id": "2e751091-0690-4038-bdf3-c31775b43db3",
   "metadata": {},
   "source": [
    "# Viewing the data : \n",
    "One of the most used method for a quick overview of tha dataFrame is the head() method.\n",
    "this method returns the headers and a specified number of rows.\n",
    "\n",
    "Here we will print the 1st 10 rows in the dataframe."
   ]
  },
  {
   "cell_type": "code",
   "execution_count": 7,
   "id": "216132d6-55f2-4c0d-9438-db2c38369ad0",
   "metadata": {},
   "outputs": [
    {
     "name": "stdout",
     "output_type": "stream",
     "text": [
      "          Car       Model  Volume  Weight  CO2\n",
      "0      Toyoty        Aygo    1000     790   99\n",
      "1  Mitsubishi  Space Star    1200    1160   95\n",
      "2       Skoda      Citigo    1000     929   95\n",
      "3        Fiat         500     900     865   90\n",
      "4        Mini      Cooper    1500    1140  105\n",
      "5          VW         Up!    1000     929  105\n",
      "6       Skoda       Fabia    1400    1109   90\n",
      "7    Mercedes     A-Class    1500    1365   92\n",
      "8        Ford      Fiesta    1500    1112   98\n",
      "9        Audi          A1    1600    1150   99\n"
     ]
    }
   ],
   "source": [
    "import pandas as pd\n",
    "ak= pd.read_csv(\"C:\\\\Users\\\\Akash katiyar\\\\Desktop\\\\pandas.ak\\\\data.csv\")\n",
    "print(ak.head(10))"
   ]
  },
  {
   "cell_type": "code",
   "execution_count": 8,
   "id": "f386c4df-7315-4ef8-88f1-eb93b9447ebd",
   "metadata": {},
   "outputs": [
    {
     "name": "stdout",
     "output_type": "stream",
     "text": [
      "         Car    Model  Volume  Weight  CO2\n",
      "26      Audi       A4    2000    1490  104\n",
      "27      Audi       A6    2000    1725  114\n",
      "28     Volvo      V70    1600    1523  109\n",
      "29       BMW        5    2000    1705  114\n",
      "30  Mercedes  E-Class    2100    1605  115\n",
      "31     Volvo     XC70    2000    1746  117\n",
      "32      Ford    B-Max    1600    1235  104\n",
      "33       BMW      216    1600    1390  108\n",
      "34      Opel   Zafira    1600    1405  109\n",
      "35  Mercedes      SLK    2500    1395  120\n"
     ]
    }
   ],
   "source": [
    "# last 10 rows prints in dataframe\n",
    "import pandas as pd\n",
    "ak= pd.read_csv(\"C:\\\\Users\\\\Akash katiyar\\\\Desktop\\\\pandas.ak\\\\data.csv\")\n",
    "print(ak.tail(10))"
   ]
  },
  {
   "cell_type": "code",
   "execution_count": 11,
   "id": "8b46b22a-c7b4-4d7d-bd42-afacd2bcfab0",
   "metadata": {},
   "outputs": [
    {
     "name": "stdout",
     "output_type": "stream",
     "text": [
      "<class 'pandas.core.frame.DataFrame'>\n",
      "RangeIndex: 36 entries, 0 to 35\n",
      "Data columns (total 5 columns):\n",
      " #   Column  Non-Null Count  Dtype \n",
      "---  ------  --------------  ----- \n",
      " 0   Car     36 non-null     object\n",
      " 1   Model   36 non-null     object\n",
      " 2   Volume  36 non-null     int64 \n",
      " 3   Weight  36 non-null     int64 \n",
      " 4   CO2     36 non-null     int64 \n",
      "dtypes: int64(3), object(2)\n",
      "memory usage: 1.5+ KB\n",
      "None\n"
     ]
    }
   ],
   "source": [
    "# what if you want the information about tha data in the dataframe: via info()\n",
    "import pandas as pd\n",
    "ak = pd.read_csv('data.csv')\n",
    "print(ak.info())"
   ]
  }
 ],
 "metadata": {
  "kernelspec": {
   "display_name": "Python 3 (ipykernel)",
   "language": "python",
   "name": "python3"
  },
  "language_info": {
   "codemirror_mode": {
    "name": "ipython",
    "version": 3
   },
   "file_extension": ".py",
   "mimetype": "text/x-python",
   "name": "python",
   "nbconvert_exporter": "python",
   "pygments_lexer": "ipython3",
   "version": "3.12.7"
  }
 },
 "nbformat": 4,
 "nbformat_minor": 5
}
