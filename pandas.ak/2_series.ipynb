{
 "cells": [
  {
   "cell_type": "code",
   "execution_count": null,
   "id": "6cfb6876-d22d-4359-9200-a6cad870a5bb",
   "metadata": {},
   "outputs": [],
   "source": [
    "# A pandas series is like a column in a table.it is 1D array which hold data of any type.\n",
    "\n",
    "# Here we will create a simple pandas series.\n"
   ]
  },
  {
   "cell_type": "code",
   "execution_count": 1,
   "id": "67e366c9-fad5-48fa-b504-28a18d4587f6",
   "metadata": {},
   "outputs": [
    {
     "name": "stdout",
     "output_type": "stream",
     "text": [
      "0    1\n",
      "1    3\n",
      "2    2\n",
      "dtype: int64\n"
     ]
    }
   ],
   "source": [
    "import pandas as pd\n",
    "ak = [1,3,2]\n",
    "ak1 = pd.Series(ak)\n",
    "print(ak1)"
   ]
  },
  {
   "cell_type": "markdown",
   "id": "54ad63f0-799e-427e-a305-ca3f31de094a",
   "metadata": {},
   "source": [
    "# labeling - label can be use to acces a specified value."
   ]
  },
  {
   "cell_type": "code",
   "execution_count": 2,
   "id": "05c8ce5b-864c-487e-8f41-48113cb858a5",
   "metadata": {},
   "outputs": [
    {
     "name": "stdout",
     "output_type": "stream",
     "text": [
      "1\n"
     ]
    }
   ],
   "source": [
    " import pandas as pd\n",
    "ak = [1,3,6]\n",
    "ak1 = pd.Series(ak)\n",
    "print(ak[0])"
   ]
  },
  {
   "cell_type": "code",
   "execution_count": 7,
   "id": "723ae3b7-bf76-43fc-9412-167321315177",
   "metadata": {},
   "outputs": [
    {
     "name": "stdout",
     "output_type": "stream",
     "text": [
      "3\n"
     ]
    }
   ],
   "source": [
    "# with create label you can create your own name labels:\n",
    "\n",
    "import pandas as pd\n",
    "ak=[1,3,5]\n",
    "ak1=pd.Series(ak,index=[\"x\",\"y\",\"z\"])\n",
    "print(ak1[\"y\"])"
   ]
  },
  {
   "cell_type": "code",
   "execution_count": 8,
   "id": "546a8e53-d45e-46ed-baa8-9c63f70bd65d",
   "metadata": {},
   "outputs": [
    {
     "name": "stdout",
     "output_type": "stream",
     "text": [
      "ak1    240\n",
      "ak2    320\n",
      "ak3    420\n",
      "dtype: int64\n"
     ]
    }
   ],
   "source": [
    "# You can also use a key or value object like a dictonary, when creating a series.\n",
    "\n",
    "# Here we will create a simple pandas series from a dictonary.\n",
    "\n",
    "import pandas as pd\n",
    "cal={\"ak1\":240,\"ak2\":320,\"ak3\":420}\n",
    "ak=pd.Series(cal)\n",
    "print(ak)"
   ]
  },
  {
   "cell_type": "code",
   "execution_count": 9,
   "id": "42fe27a3-fef0-4afb-ac5e-850f81d7b2bf",
   "metadata": {},
   "outputs": [
    {
     "name": "stdout",
     "output_type": "stream",
     "text": [
      "ak1    120\n",
      "ak4    420\n",
      "dtype: int64\n"
     ]
    }
   ],
   "source": [
    "# now we will create a series using only data from day1 and day2\n",
    "import pandas as pd\n",
    "cal={\"ak1\":120,\"ak2\":220,\"ak3\":320,\"ak4\":420}\n",
    "ak=pd.Series(cal, index=[\"ak1\",\"ak4\"])\n",
    "print(ak)"
   ]
  },
  {
   "cell_type": "code",
   "execution_count": 10,
   "id": "8122c90b-b4f8-4829-a2f9-40b4863042ec",
   "metadata": {},
   "outputs": [
    {
     "name": "stdout",
     "output_type": "stream",
     "text": [
      "   ak1  duration\n",
      "0  120        20\n",
      "1  220        30\n",
      "2  320        40\n"
     ]
    }
   ],
   "source": [
    "# DataFrame:Data sets in Pandas are usually multidimentional tables, and they re called DataFrames.\n",
    "# Series are like column and DataFrame is the whole table.\n",
    "\n",
    "# we will now create a dataframe from from 2 series.\n",
    "import pandas as pd\n",
    "ak={\"ak1\":[120,220,320],\"duration\":[20,30,40]}\n",
    "ak1=pd.DataFrame(ak)\n",
    "print(ak1)"
   ]
  }
 ],
 "metadata": {
  "kernelspec": {
   "display_name": "Python 3 (ipykernel)",
   "language": "python",
   "name": "python3"
  },
  "language_info": {
   "codemirror_mode": {
    "name": "ipython",
    "version": 3
   },
   "file_extension": ".py",
   "mimetype": "text/x-python",
   "name": "python",
   "nbconvert_exporter": "python",
   "pygments_lexer": "ipython3",
   "version": "3.12.7"
  }
 },
 "nbformat": 4,
 "nbformat_minor": 5
}
