{
 "cells": [
  {
   "cell_type": "markdown",
   "id": "7af47db9-d100-4982-adae-4bc91204e72f",
   "metadata": {},
   "source": [
    "# DataFrame\n",
    "it is a 2D data structure like a 2D array with table incl.rows and columns.\n"
   ]
  },
  {
   "cell_type": "code",
   "execution_count": 2,
   "id": "a940922e-d337-4e2d-82df-f7269835b1b2",
   "metadata": {},
   "outputs": [
    {
     "name": "stdout",
     "output_type": "stream",
     "text": [
      "   cal  Duration\n",
      "0  100        10\n",
      "1  200        20\n",
      "2  300        30\n"
     ]
    }
   ],
   "source": [
    "import pandas as pd\n",
    "data={\"cal\":[100,200,300],\"Duration\":[10,20,30]}\n",
    "ak=pd.DataFrame(data)\n",
    "print(ak)"
   ]
  },
  {
   "cell_type": "code",
   "execution_count": 6,
   "id": "902457c0-5652-45c0-9eb8-b04939ba71c1",
   "metadata": {},
   "outputs": [
    {
     "name": "stdout",
     "output_type": "stream",
     "text": [
      "cal         100\n",
      "Duration     10\n",
      "Name: 0, dtype: int64\n"
     ]
    }
   ],
   "source": [
    "# Locate row: pandas use the loc attibute to return one or more specified row.\n",
    "import pandas as pd\n",
    "data={\"cal\":[100,200,300],\"Duration\":[10,20,30]}\n",
    "ak=pd.DataFrame(data)\n",
    "print(ak.loc[0])"
   ]
  },
  {
   "cell_type": "code",
   "execution_count": 8,
   "id": "8fdade19-0791-45fd-82cd-02aabb588299",
   "metadata": {},
   "outputs": [
    {
     "name": "stdout",
     "output_type": "stream",
     "text": [
      "   cal  Duration\n",
      "0  100        10\n",
      "1  200        20\n"
     ]
    }
   ],
   "source": [
    "# example of returning row 0 and 1.\n",
    "import pandas as pd\n",
    "data={\"cal\":[100,200,300],\"Duration\":[10,20,30]}\n",
    "ak=pd.DataFrame(data)\n",
    "print(ak.loc[[0,1]])"
   ]
  },
  {
   "cell_type": "code",
   "execution_count": 10,
   "id": "28ff4f9e-6b83-4fc6-938d-4cf5b19e422e",
   "metadata": {},
   "outputs": [
    {
     "name": "stdout",
     "output_type": "stream",
     "text": [
      "      cal  Duration\n",
      "day1  100        10\n",
      "day2  200        20\n",
      "day3  300        30\n"
     ]
    }
   ],
   "source": [
    "# Names Index: with the index array,you can your own index.\n",
    "import pandas as pd\n",
    "data={\"cal\":[100,200,300],\"Duration\":[10,20,30]}\n",
    "ak=pd.DataFrame(data,index=[\"day1\",\"day2\",\"day3\"])\n",
    "print(ak)"
   ]
  },
  {
   "cell_type": "code",
   "execution_count": 11,
   "id": "2385423f-1f06-4176-abb4-7cfbc7a686c5",
   "metadata": {},
   "outputs": [
    {
     "name": "stdout",
     "output_type": "stream",
     "text": [
      "cal         100\n",
      "Duration     10\n",
      "Name: day1, dtype: int64\n"
     ]
    }
   ],
   "source": [
    "# locate the names index:\n",
    "\n",
    "import pandas as pd\n",
    "data={\"cal\":[100,200,300],\"Duration\":[10,20,30]}\n",
    "ak=pd.DataFrame(data,index=[\"day1\",\"day2\",\"day3\"])\n",
    "print(ak.loc[\"day1\"])"
   ]
  },
  {
   "cell_type": "code",
   "execution_count": 12,
   "id": "0d0314d4-cce5-49a5-8717-0088c1e97955",
   "metadata": {},
   "outputs": [
    {
     "name": "stdout",
     "output_type": "stream",
     "text": [
      "      cal  Duration\n",
      "day1  100        10\n",
      "day2  200        20\n"
     ]
    }
   ],
   "source": [
    "# output in a dataFrme\n",
    "import pandas as pd\n",
    "data={\"cal\":[100,200,300],\"Duration\":[10,20,30]}\n",
    "ak=pd.DataFrame(data,index=[\"day1\",\"day2\",\"day3\"])\n",
    "print(ak.loc[[\"day1\",\"day2\"]])"
   ]
  },
  {
   "cell_type": "code",
   "execution_count": null,
   "id": "c38d2ef7-cd4c-4cd5-bb4f-b499af8c94a7",
   "metadata": {},
   "outputs": [],
   "source": [
    "# Load the data from the csv file into dataframe i.e data.csv\n",
    "\n",
    "import pandas as pd\n",
    "fileload=pd.read_csv(\"data.csv\")\n",
    "print(fileload)"
   ]
  },
  {
   "cell_type": "code",
   "execution_count": null,
   "id": "3c63d9cb-fa68-41e0-9a40-e69942b818fb",
   "metadata": {},
   "outputs": [],
   "source": []
  }
 ],
 "metadata": {
  "kernelspec": {
   "display_name": "Python 3 (ipykernel)",
   "language": "python",
   "name": "python3"
  },
  "language_info": {
   "codemirror_mode": {
    "name": "ipython",
    "version": 3
   },
   "file_extension": ".py",
   "mimetype": "text/x-python",
   "name": "python",
   "nbconvert_exporter": "python",
   "pygments_lexer": "ipython3",
   "version": "3.12.7"
  }
 },
 "nbformat": 4,
 "nbformat_minor": 5
}
