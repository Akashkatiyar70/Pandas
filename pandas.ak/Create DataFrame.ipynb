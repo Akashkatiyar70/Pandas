{
 "cells": [
  {
   "cell_type": "code",
   "execution_count": 1,
   "id": "7d584903-5dda-4a68-91e4-f803d249aa38",
   "metadata": {},
   "outputs": [
    {
     "name": "stdout",
     "output_type": "stream",
     "text": [
      "   a  b   c\n",
      "1  4  7  10\n",
      "2  5  8  11\n",
      "3  6  9  12\n"
     ]
    }
   ],
   "source": [
    "# we specify values for each column\n",
    "import pandas as pd\n",
    "df = pd.DataFrame({\"a\":[4,5,6],\"b\":[7,8,9],\"c\":[10,11,12]}, index=[1,2,3])\n",
    "print(df)"
   ]
  },
  {
   "cell_type": "code",
   "execution_count": 2,
   "id": "ed3629fe-6adb-40f3-bd03-3d4925ff4b46",
   "metadata": {},
   "outputs": [
    {
     "name": "stdout",
     "output_type": "stream",
     "text": [
      "    a   b   c\n",
      "1   4   5   6\n",
      "2   7   8   9\n",
      "3  10  11  12\n"
     ]
    }
   ],
   "source": [
    "# we specify values rows\n",
    "import pandas as pd\n",
    "df = pd.DataFrame([[4,5,6],[7,8,9],[10,11,12]],index=[1,2,3],columns=['a','b','c'])\n",
    "print(df)"
   ]
  },
  {
   "cell_type": "code",
   "execution_count": 6,
   "id": "a1e8ee86-2b50-4c12-afa1-d471d8d1c1c1",
   "metadata": {},
   "outputs": [
    {
     "name": "stdout",
     "output_type": "stream",
     "text": [
      "     a  b   c\n",
      "N v          \n",
      "D 1  4  7  10\n",
      "  2  5  8  11\n",
      "e 2  6  9  12\n"
     ]
    }
   ],
   "source": [
    " # creating a DataFrame witha MultIndex\n",
    "import pandas as pd\n",
    "df = pd.DataFrame({'a':[4,5,6],'b':[7,8,9],'c':[10,11,12]},\n",
    "                  index= pd.MultiIndex.from_tuples([('D',1),('D',2),('e',2)],\n",
    "                                                   names=['N','v']))\n",
    "print(df)"
   ]
  }
 ],
 "metadata": {
  "kernelspec": {
   "display_name": "Python 3 (ipykernel)",
   "language": "python",
   "name": "python3"
  },
  "language_info": {
   "codemirror_mode": {
    "name": "ipython",
    "version": 3
   },
   "file_extension": ".py",
   "mimetype": "text/x-python",
   "name": "python",
   "nbconvert_exporter": "python",
   "pygments_lexer": "ipython3",
   "version": "3.12.7"
  }
 },
 "nbformat": 4,
 "nbformat_minor": 5
}
